{
 "cells": [
  {
   "cell_type": "code",
   "execution_count": 1,
   "id": "01ae001b",
   "metadata": {},
   "outputs": [],
   "source": [
    "from azure.storage.blob import BlobServiceClient, BlobClient, ContainerClient\n",
    "import os"
   ]
  },
  {
   "cell_type": "code",
   "execution_count": 2,
   "id": "0d5b6910",
   "metadata": {},
   "outputs": [],
   "source": [
    "# Azure storage account credentials\n",
    "\n",
    "account_name = \"mentalhealthdata\"\n",
    "account_key = \"account_key\""
   ]
  },
  {
   "cell_type": "code",
   "execution_count": 3,
   "id": "34b139af",
   "metadata": {},
   "outputs": [],
   "source": [
    "# Container, local file path and blob name\n",
    "\n",
    "container_name = \"mentalhealth\"\n",
    "file_path = \"file_path\"\n",
    "blob_name = \"blob_name\""
   ]
  },
  {
   "cell_type": "code",
   "execution_count": 4,
   "id": "9c01eb35",
   "metadata": {},
   "outputs": [],
   "source": [
    "# Function to upload local file to Azure Data Lake Storage Gen2\n",
    "\n",
    "def upload_to_azure_storage(account_name, account_key, container_name, file_path, blob_name):\n",
    "    try:\n",
    "        # Create a BlobServiceClient\n",
    "        blob_service_client = BlobServiceClient(account_url=f\"https://{account_name}.blob.core.windows.net\", credential=account_key)\n",
    "        \n",
    "        # Get a ContainerClient\n",
    "        container_client = blob_service_client.get_container_client(container_name)\n",
    "        \n",
    "        # Upload the file\n",
    "        with open(file_path, \"rb\") as data:\n",
    "            container_client.upload_blob(name=blob_name, data=data)\n",
    "        \n",
    "        print(f\"File '{blob_name}' uploaded successfully to container '{container_name}' in Azure Storage Account '{account_name}'.\")\n",
    "    except Exception as e:\n",
    "        print(f\"An error occurred: {e}\")"
   ]
  },
  {
   "cell_type": "code",
   "execution_count": 5,
   "id": "ffe58955",
   "metadata": {},
   "outputs": [
    {
     "name": "stdout",
     "output_type": "stream",
     "text": [
      "File 'mental_health_dataset.csv' uploaded successfully to container 'mentalhealth' in Azure Storage Account 'mentalhealthdata'.\n"
     ]
    }
   ],
   "source": [
    "# Calling the function\n",
    "\n",
    "upload_to_azure_storage(account_name, account_key, container_name, file_path, blob_name)"
   ]
  },
  {
   "cell_type": "code",
   "execution_count": null,
   "id": "9ae37c08",
   "metadata": {},
   "outputs": [],
   "source": []
  }
 ],
 "metadata": {
  "kernelspec": {
   "display_name": "Python 3 (ipykernel)",
   "language": "python",
   "name": "python3"
  },
  "language_info": {
   "codemirror_mode": {
    "name": "ipython",
    "version": 3
   },
   "file_extension": ".py",
   "mimetype": "text/x-python",
   "name": "python",
   "nbconvert_exporter": "python",
   "pygments_lexer": "ipython3",
   "version": "3.9.12"
  }
 },
 "nbformat": 4,
 "nbformat_minor": 5
}
